{
  "nbformat": 4,
  "nbformat_minor": 0,
  "metadata": {
    "kernelspec": {
      "display_name": "Python 3",
      "language": "python",
      "name": "python3"
    },
    "language_info": {
      "codemirror_mode": {
        "name": "ipython",
        "version": 3
      },
      "file_extension": ".py",
      "mimetype": "text/x-python",
      "name": "python",
      "nbconvert_exporter": "python",
      "pygments_lexer": "ipython3",
      "version": "3.5.6"
    },
    "colab": {
      "name": "FashionMnist.ipynb",
      "provenance": [],
      "include_colab_link": true
    }
  },
  "cells": [
    {
      "cell_type": "markdown",
      "metadata": {
        "id": "view-in-github",
        "colab_type": "text"
      },
      "source": [
        "<a href=\"https://colab.research.google.com/github/mashrukh-zaman/BanglaNet/blob/main/FashionMnist.ipynb\" target=\"_parent\"><img src=\"https://colab.research.google.com/assets/colab-badge.svg\" alt=\"Open In Colab\"/></a>"
      ]
    },
    {
      "cell_type": "code",
      "metadata": {
        "id": "-2EQoE_b7XnU"
      },
      "source": [
        "import numpy as np\n",
        "import pandas as pd\n",
        "import matplotlib.pyplot as plt\n",
        "import tensorflow as tf\n",
        "from sklearn.model_selection import train_test_split\n",
        "from tensorflow.keras.models import Sequential\n",
        "from tensorflow.keras.utils import to_categorical\n",
        "from tensorflow.keras.layers import Dropout,BatchNormalization,Conv2D,MaxPooling2D,Dense,Flatten"
      ],
      "execution_count": null,
      "outputs": []
    },
    {
      "cell_type": "code",
      "metadata": {
        "id": "mvJFCocb7Xna",
        "outputId": "10934a7f-64f6-4637-c48c-1e9521046d00"
      },
      "source": [
        "(x_train, y_train), (x_test, y_test) = tf.keras.datasets.fashion_mnist.load_data()\n",
        "print(\"x_train shape:\", x_train.shape, \"y_train shape:\", y_train.shape)"
      ],
      "execution_count": null,
      "outputs": [
        {
          "output_type": "stream",
          "text": [
            "x_train shape: (60000, 28, 28) y_train shape: (60000,)\n"
          ],
          "name": "stdout"
        }
      ]
    },
    {
      "cell_type": "code",
      "metadata": {
        "id": "z3eBI-ZK7Xne",
        "outputId": "4c8ab0e9-76f7-4a80-e6a4-ae87e607a19b"
      },
      "source": [
        "a=[25,39,8,67,90,5120,1000,234,1267,132]\n",
        "plt.figure(figsize=(6,6))\n",
        "for i in range(len(a)):\n",
        "    plt.subplot(3,4,i+1)\n",
        "    plt.imshow(x_train[a[i]])\n",
        "    plt.title(y_train[a[i]])"
      ],
      "execution_count": null,
      "outputs": [
        {
          "output_type": "display_data",
          "data": {
            "image/png": "[encoded data removed]",
            "text/plain": [
              "<Figure size 432x432 with 10 Axes>"
            ]
          },
          "metadata": {
            "tags": [],
            "needs_background": "light"
          }
        }
      ]
    },
    {
      "cell_type": "code",
      "metadata": {
        "id": "xWPADJTY7Xni"
      },
      "source": [
        "x_train=x_train.reshape(-1,28,28,1)\n",
        "x_test=x_test.reshape(-1,28,28,1)"
      ],
      "execution_count": null,
      "outputs": []
    },
    {
      "cell_type": "code",
      "metadata": {
        "id": "yKRC7BCy7Xnn"
      },
      "source": [
        "x_train=x_train.astype('float32')\n",
        "x_test=x_test.astype('float32')\n",
        "\n",
        "x_train=x_train/255\n",
        "x_test=x_test/255"
      ],
      "execution_count": null,
      "outputs": []
    },
    {
      "cell_type": "code",
      "metadata": {
        "id": "wYj8Lm2v7Xnq"
      },
      "source": [
        "y_train=to_categorical(y_train)\n",
        "y_test=to_categorical(y_test)"
      ],
      "execution_count": null,
      "outputs": []
    },
    {
      "cell_type": "code",
      "metadata": {
        "id": "ytfYhRfh7Xnu",
        "outputId": "c620891f-e0d1-4833-9cd3-ab70552b09c6"
      },
      "source": [
        "model=Sequential()\n",
        "model.add(Conv2D(64,(3,3),activation='relu',input_shape=(28,28,1)))\n",
        "model.add(MaxPooling2D((2,2)))\n",
        "model.add(Conv2D(64, (3,3),activation='relu'))\n",
        "model.add(MaxPooling2D((2,2)))\n",
        "model.add(Dropout(0.25))\n",
        "model.add(Flatten())\n",
        "model.add(Dense(128,activation='relu'))\n",
        "model.add(Dense(10,activation='softmax'))\n",
        "model.compile(loss='categorical_crossentropy',optimizer='adam',metrics=['accuracy']) \n",
        "\n",
        "model.summary()"
      ],
      "execution_count": null,
      "outputs": [
        {
          "output_type": "stream",
          "text": [
            "_________________________________________________________________\n",
            "Layer (type)                 Output Shape              Param #   \n",
            "=================================================================\n",
            "conv2d (Conv2D)              (None, 26, 26, 64)        640       \n",
            "_________________________________________________________________\n",
            "max_pooling2d (MaxPooling2D) (None, 13, 13, 64)        0         \n",
            "_________________________________________________________________\n",
            "conv2d_1 (Conv2D)            (None, 11, 11, 64)        36928     \n",
            "_________________________________________________________________\n",
            "max_pooling2d_1 (MaxPooling2 (None, 5, 5, 64)          0         \n",
            "_________________________________________________________________\n",
            "dropout (Dropout)            (None, 5, 5, 64)          0         \n",
            "_________________________________________________________________\n",
            "flatten (Flatten)            (None, 1600)              0         \n",
            "_________________________________________________________________\n",
            "dense (Dense)                (None, 128)               204928    \n",
            "_________________________________________________________________\n",
            "dense_1 (Dense)              (None, 10)                1290      \n",
            "=================================================================\n",
            "Total params: 243,786\n",
            "Trainable params: 243,786\n",
            "Non-trainable params: 0\n",
            "_________________________________________________________________\n"
          ],
          "name": "stdout"
        }
      ]
    },
    {
      "cell_type": "code",
      "metadata": {
        "id": "epsDdjX57Xny",
        "outputId": "6886db18-8f51-481a-d496-fdbca226f494"
      },
      "source": [
        "model.fit(x_train,y_train,batch_size=60,epochs=15,validation_split=0.2)"
      ],
      "execution_count": null,
      "outputs": [
        {
          "output_type": "stream",
          "text": [
            "Train on 48000 samples, validate on 12000 samples\n",
            "Epoch 1/15\n",
            "48000/48000 [==============================] - 846s 18ms/step - loss: 0.5252 - acc: 0.8099 - val_loss: 0.3775 - val_acc: 0.8630\n",
            "Epoch 2/15\n",
            "48000/48000 [==============================] - 1037s 22ms/step - loss: 0.3492 - acc: 0.8719 - val_loss: 0.3120 - val_acc: 0.8840\n",
            "Epoch 3/15\n",
            "48000/48000 [==============================] - 991s 21ms/step - loss: 0.3018 - acc: 0.8887 - val_loss: 0.2861 - val_acc: 0.8972\n",
            "Epoch 4/15\n",
            "48000/48000 [==============================] - 904s 19ms/step - loss: 0.2727 - acc: 0.8994 - val_loss: 0.2755 - val_acc: 0.8976\n",
            "Epoch 5/15\n",
            "48000/48000 [==============================] - 861s 18ms/step - loss: 0.2503 - acc: 0.9080 - val_loss: 0.2820 - val_acc: 0.8961\n",
            "Epoch 6/15\n",
            "48000/48000 [==============================] - 942s 20ms/step - loss: 0.2293 - acc: 0.9152 - val_loss: 0.2498 - val_acc: 0.9088\n",
            "Epoch 7/15\n",
            "48000/48000 [==============================] - 967s 20ms/step - loss: 0.2137 - acc: 0.9190 - val_loss: 0.2591 - val_acc: 0.9057\n",
            "Epoch 8/15\n",
            "48000/48000 [==============================] - 840s 18ms/step - loss: 0.1964 - acc: 0.9260 - val_loss: 0.2491 - val_acc: 0.9075\n",
            "Epoch 9/15\n",
            "48000/48000 [==============================] - 867s 18ms/step - loss: 0.1824 - acc: 0.9304 - val_loss: 0.2320 - val_acc: 0.9178\n",
            "Epoch 10/15\n",
            "48000/48000 [==============================] - 763s 16ms/step - loss: 0.1711 - acc: 0.9358 - val_loss: 0.2387 - val_acc: 0.9135\n",
            "Epoch 11/15\n",
            "48000/48000 [==============================] - 766s 16ms/step - loss: 0.1610 - acc: 0.9394 - val_loss: 0.2311 - val_acc: 0.9163\n",
            "Epoch 12/15\n",
            "48000/48000 [==============================] - 952s 20ms/step - loss: 0.1498 - acc: 0.9432 - val_loss: 0.2385 - val_acc: 0.9134\n",
            "Epoch 13/15\n",
            "48000/48000 [==============================] - 991s 21ms/step - loss: 0.1396 - acc: 0.9467 - val_loss: 0.2375 - val_acc: 0.9146\n",
            "Epoch 14/15\n",
            "48000/48000 [==============================] - 912s 19ms/step - loss: 0.1331 - acc: 0.9499 - val_loss: 0.2399 - val_acc: 0.9182\n",
            "Epoch 15/15\n",
            "48000/48000 [==============================] - 976s 20ms/step - loss: 0.1216 - acc: 0.9531 - val_loss: 0.2420 - val_acc: 0.9169\n"
          ],
          "name": "stdout"
        },
        {
          "output_type": "execute_result",
          "data": {
            "text/plain": [
              "<tensorflow.python.keras.callbacks.History at 0x14cf3aeccf8>"
            ]
          },
          "metadata": {
            "tags": []
          },
          "execution_count": 8
        }
      ]
    },
    {
      "cell_type": "code",
      "metadata": {
        "id": "2IMkeV4K7Xn5",
        "outputId": "3c9ab3ca-8745-4b8a-ddcb-13f6cffc31b2"
      },
      "source": [
        "test_loss,test_acc=model.evaluate(x_test,y_test)\n",
        "print('testloss',test_loss)\n",
        "print('test accuracy',test_acc)"
      ],
      "execution_count": null,
      "outputs": [
        {
          "output_type": "stream",
          "text": [
            "10000/10000 [==============================] - 10s 1ms/step\n",
            "testloss 0.2637318471550941\n",
            "test accuracy 0.9114\n"
          ],
          "name": "stdout"
        }
      ]
    },
    {
      "cell_type": "code",
      "metadata": {
        "id": "wjaT234b7Xn8",
        "outputId": "c5ebb22a-d0b8-4c13-d450-98cd12cfca32"
      },
      "source": [
        "num=115\n",
        "prediction=model.predict(x_test)\n",
        "print(np.argmax(np.round(prediction[num])))"
      ],
      "execution_count": null,
      "outputs": [
        {
          "output_type": "stream",
          "text": [
            "2\n"
          ],
          "name": "stdout"
        }
      ]
    },
    {
      "cell_type": "code",
      "metadata": {
        "id": "Xzi5hpAS7XoA",
        "outputId": "eb6651ea-ba80-4578-d3cd-842849c7c767"
      },
      "source": [
        "plt.imshow(x_test[num].reshape(28,28))\n",
        "print(\"The Label is '{}'\".format(y_test[num]))\n",
        "plt.show()"
      ],
      "execution_count": null,
      "outputs": [
        {
          "output_type": "stream",
          "text": [
            "The Label is '[0. 0. 1. 0. 0. 0. 0. 0. 0. 0.]'\n"
          ],
          "name": "stdout"
        },
        {
          "output_type": "display_data",
          "data": {
            "image/png": "[encoded data removed]",
            "text/plain": [
              "<Figure size 432x288 with 1 Axes>"
            ]
          },
          "metadata": {
            "tags": [],
            "needs_background": "light"
          }
        }
      ]
    },
    {
      "cell_type": "code",
      "metadata": {
        "id": "xYFLXZ447XoD"
      },
      "source": [
        ""
      ],
      "execution_count": null,
      "outputs": []
    }
  ]
}