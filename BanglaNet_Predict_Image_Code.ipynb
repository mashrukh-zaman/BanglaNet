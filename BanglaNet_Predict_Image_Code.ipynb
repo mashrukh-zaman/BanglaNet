{
  "nbformat": 4,
  "nbformat_minor": 0,
  "metadata": {
    "colab": {
      "name": "BanglaNet Predict Image Code.ipynb",
      "provenance": [],
      "collapsed_sections": [],
      "include_colab_link": true
    },
    "kernelspec": {
      "name": "python3",
      "display_name": "Python 3"
    },
    "accelerator": "GPU"
  },
  "cells": [
    {
      "cell_type": "markdown",
      "metadata": {
        "id": "view-in-github",
        "colab_type": "text"
      },
      "source": [
        "<a href=\"https://colab.research.google.com/github/mashrukh-zaman/BanglaNet/blob/main/BanglaNet_Predict_Image_Code.ipynb\" target=\"_parent\"><img src=\"https://colab.research.google.com/assets/colab-badge.svg\" alt=\"Open In Colab\"/></a>"
      ]
    },
    {
      "cell_type": "code",
      "metadata": {
        "colab": {
          "base_uri": "https://localhost:8080/"
        },
        "id": "3_fztVKae_sm",
        "outputId": "f777c00e-8f62-4d6d-af77-fc7de47b67a5"
      },
      "source": [
        "back2label = {}\n",
        "for k,v in train_gen.class_indices.items():\n",
        "    back2label[v] = k\n",
        "print(back2label)"
      ],
      "execution_count": null,
      "outputs": [
        {
          "output_type": "stream",
          "text": [
            "{0: 'Jackfruit', 1: 'Mango field', 2: 'Pohela Boishakh', 3: 'Rice field', 4: 'Rickshaw', 5: 'River Boat', 6: 'Traffic Jam', 7: 'Village House', 8: 'churi', 9: 'flood', 10: 'fuchka', 11: 'mosque', 12: 'nakshi pitha'}\n"
          ],
          "name": "stdout"
        }
      ]
    },
    {
      "cell_type": "code",
      "metadata": {
        "id": "Hjz8GvbAODh5",
        "colab": {
          "base_uri": "https://localhost:8080/"
        },
        "outputId": "6545f583-a9d2-49bb-f138-f73ee78913d6"
      },
      "source": [
        "import cv2\n",
        "import tensorflow as tf\n",
        "import matplotlib.pyplot as plt\n",
        "import numpy as np\n",
        "\n",
        "def prepare(filepath):\n",
        "    IMG_SIZE = 256\n",
        "    img_array = cv2.imread(filepath)\n",
        "    new_array = cv2.resize(img_array, (IMG_SIZE, IMG_SIZE))\n",
        "    return new_array.reshape(1, IMG_SIZE, IMG_SIZE, 3).astype('float32')\n",
        "\n",
        "model = tf.keras.models.load_model('/content/drive/MyDrive/Desi imagenet/densenet.hdf5')\n",
        "print('Model Loaded')"
      ],
      "execution_count": null,
      "outputs": [
        {
          "output_type": "stream",
          "text": [
            "Model Loaded\n"
          ],
          "name": "stdout"
        }
      ]
    },
    {
      "cell_type": "code",
      "metadata": {
        "id": "ZyvrXbb6Q-u6",
        "colab": {
          "base_uri": "https://localhost:8080/"
        },
        "outputId": "57e29ca0-db9d-4ecc-f3d3-76d4fc0a809b"
      },
      "source": [
        "img = '/content/drive/MyDrive/Desi imagenet/Test/test/suryamukhi-1533914533-380634b_xlarge.jpg'\n",
        "image = prepare(img)\n",
        "image = image/255.0\n",
        "\n",
        "prediction = model.predict([image])\n",
        "predicted_class_indices = np.argmax(prediction, axis = 1)\n",
        "print(predicted_class_indices)"
      ],
      "execution_count": null,
      "outputs": [
        {
          "output_type": "stream",
          "text": [
            "[8]\n"
          ],
          "name": "stdout"
        }
      ]
    }
  ]
}